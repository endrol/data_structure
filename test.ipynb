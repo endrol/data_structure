{
 "cells": [
  {
   "cell_type": "code",
   "execution_count": 56,
   "metadata": {
    "collapsed": true,
    "pycharm": {
     "is_executing": false
    }
   },
   "outputs": [
    {
     "name": "stdout",
     "text": [
      "True\n"
     ],
     "output_type": "stream"
    }
   ],
   "source": [
    "import torch\n",
    "import numpy as np\n",
    "import cv2\n",
    "from sklearn.preprocessing import MinMaxScaler, StandardScaler\n",
    "from scipy.spatial import cKDTree\n",
    "\n",
    "print(torch.cuda.is_available())"
   ]
  },
  {
   "cell_type": "code",
   "execution_count": 21,
   "outputs": [],
   "source": [
    "class Engine(object):\n",
    "    def __init__(self, state={}):\n",
    "        self.state = state\n",
    "        self.state['use_gpu'] = True\n",
    "        \n",
    "    def print_fun(self, st1):\n",
    "        self.st1 = st1\n",
    "        print(self.state)\n",
    "        self.state['ok'] = False\n",
    "        print(self.state)\n",
    "    \n",
    "    def print_fun2(self):\n",
    "        print(self.st1)\n",
    "        "
   ],
   "metadata": {
    "collapsed": false,
    "pycharm": {
     "name": "#%%\n",
     "is_executing": false
    }
   }
  },
  {
   "cell_type": "code",
   "execution_count": 22,
   "outputs": [
    {
     "name": "stdout",
     "text": [
      "{'a': 3, 'use_gpu': True}\n",
      "{'a': 3, 'use_gpu': True, 'ok': False}\n",
      "guapi\n"
     ],
     "output_type": "stream"
    }
   ],
   "source": [
    "state = {'a':3}\n",
    "engine = Engine(state)\n",
    "engine.print_fun('guapi')\n",
    "engine.print_fun2()\n",
    "\n"
   ],
   "metadata": {
    "collapsed": false,
    "pycharm": {
     "name": "#%%\n",
     "is_executing": false
    }
   }
  },
  {
   "cell_type": "code",
   "execution_count": 27,
   "outputs": [
    {
     "name": "stdout",
     "text": [
      "yes\n"
     ],
     "output_type": "stream"
    },
    {
     "data": {
      "text/plain": "'('"
     },
     "metadata": {},
     "output_type": "execute_result",
     "execution_count": 27
    }
   ],
   "source": [
    "mapping = {\")\": \"(\", \"}\": \"{\", \"]\": \"[\"}\n",
    "if ')' in mapping:\n",
    "    print('yes')\n",
    "else:\n",
    "    print('no')\n",
    "\n",
    "mapping[')']\n"
   ],
   "metadata": {
    "collapsed": false,
    "pycharm": {
     "name": "#%%\n",
     "is_executing": false
    }
   }
  },
  {
   "cell_type": "code",
   "execution_count": 6,
   "outputs": [
    {
     "data": {
      "text/plain": "tensor([2, 3, 4], dtype=torch.int32)"
     },
     "metadata": {},
     "output_type": "execute_result",
     "execution_count": 6
    }
   ],
   "source": [
    "a = np.array([2,3,4])\n",
    "b = torch.from_numpy(a)\n",
    "b\n",
    "\n",
    "\n"
   ],
   "metadata": {
    "collapsed": false,
    "pycharm": {
     "name": "#%%\n",
     "is_executing": false
    }
   }
  },
  {
   "cell_type": "code",
   "execution_count": 16,
   "outputs": [
    {
     "name": "stdout",
     "text": [
      "[ 0.0000000e+00  0.0000000e+00  0.0000000e+00  0.0000000e+00\n",
      "  2.3355761e-03  1.4735240e-03  2.4871361e-03  1.6537141e-03\n",
      "  9.4107585e-03  2.0169979e-02  9.4107585e-03  2.0465791e-02\n",
      "  9.5559657e-03  1.0951672e-02  9.5559657e-03  1.0960944e-02\n",
      "  7.1244844e-04  8.4944977e-04  7.1244844e-04  1.5918666e-03\n",
      "  1.4351934e-02  5.2778567e-03  1.7055325e-02  1.0892163e-02\n",
      "  4.8058376e-01  4.0083449e-02  4.8058376e-01  2.5708407e-01\n",
      "  4.9504796e-03  4.2158393e-03  4.9504796e-03  4.3744976e-03\n",
      "  3.6112848e-03  4.4850298e-04  3.6112848e-03  1.2978252e-03\n",
      "  2.3645969e-01  2.3324345e-01  2.3877415e-01  2.7076527e-01\n",
      "  2.2194313e-01  1.9695631e-01  2.2397760e-01  2.8309110e-01\n",
      "  3.3249676e-03 -1.6321965e-03  4.4885608e-03  6.9328225e-03\n",
      "  4.0107808e-04  3.7261829e-04  4.3510742e-04  3.7261829e-04\n",
      "  6.4810365e-02 -1.0786165e-02  6.4810365e-02  1.8588895e-02\n",
      "  4.4543594e-03  9.5419483e-03  4.7923112e-03  9.5419483e-03\n",
      "  1.2207802e-03  1.2254722e-03  1.3149027e-03  1.2357859e-03]\n"
     ],
     "output_type": "stream"
    },
    {
     "data": {
      "text/plain": "array([[0.33941707, 0.58696413, 0.        , ..., 1.        , 0.6826894 ,\n        0.68227327],\n       [1.        , 0.35746104, 0.6264274 , ..., 0.24314597, 1.        ,\n        0.49539223],\n       [0.62784845, 0.27266404, 0.27234694, ..., 0.29688364, 0.7386581 ,\n        0.        ],\n       ...,\n       [0.3505692 , 0.5640164 , 0.0378473 , ..., 0.5942051 , 0.19634831,\n        0.36340365],\n       [0.8828753 , 0.76704276, 0.5111529 , ..., 0.3273621 , 0.25801915,\n        0.07616112],\n       [0.33941707, 0.58696413, 0.        , ..., 0.37822244, 0.6286168 ,\n        0.1531798 ]], dtype=float32)"
     },
     "metadata": {},
     "output_type": "execute_result",
     "execution_count": 16
    }
   ],
   "source": [
    "img = cv2.imread('IDRiD_010.jpg')\n",
    "surf = cv2.xfeatures2d.SURF_create(1000)\n",
    "sift = cv2.xfeatures2d.SIFT_create(1000)\n",
    "\n",
    "kp, des = surf.detectAndCompute(img, None)\n",
    "des = des[:20]\n",
    "\n",
    "print(des[0])\n",
    "des.shape\n",
    "\n",
    "minmax_normalizer = MinMaxScaler()\n",
    "feature_vector = minmax_normalizer.fit_transform(des)\n",
    "feature_vector"
   ],
   "metadata": {
    "collapsed": false,
    "pycharm": {
     "name": "#%%\n",
     "is_executing": false
    }
   }
  },
  {
   "cell_type": "code",
   "execution_count": 58,
   "outputs": [
    {
     "name": "stdout",
     "text": [
      "tensor([[1, 1],\n",
      "        [2, 2],\n",
      "        [5, 5],\n",
      "        [6, 6]], dtype=torch.int32)\n"
     ],
     "output_type": "stream"
    }
   ],
   "source": [
    "matrix = np.array([[1, 1],\n",
    "               [2, 2],\n",
    "               [5, 5],\n",
    "               [6, 6]]\n",
    "              )\n",
    "\n",
    "search_vec = np.array([3, 3])\n",
    "matrix_tensor = torch.from_numpy(matrix)\n",
    "print(matrix_tensor)\n",
    "search_ten = torch.from_numpy(search_vec)\n",
    "\n"
   ],
   "metadata": {
    "collapsed": false,
    "pycharm": {
     "name": "#%%\n",
     "is_executing": false
    }
   }
  },
  {
   "cell_type": "code",
   "execution_count": 71,
   "outputs": [
    {
     "name": "stdout",
     "text": [
      "torch.Size([2, 1, 4, 5])\n",
      "torch.Size([2, 4, 5])\n"
     ],
     "output_type": "stream"
    }
   ],
   "source": [
    "a1 = np.empty(shape=(2,1,4,5))\n",
    "b1 = torch.from_numpy(a1)\n",
    "print(b1.shape)\n",
    "print(torch.squeeze(b1).shape)"
   ],
   "metadata": {
    "collapsed": false,
    "pycharm": {
     "name": "#%%\n",
     "is_executing": false
    }
   }
  },
  {
   "cell_type": "code",
   "execution_count": 72,
   "outputs": [
    {
     "name": "stdout",
     "text": [
      "9\n",
      "8\n",
      "7\n",
      "6\n",
      "5\n",
      "4\n",
      "3\n",
      "2\n",
      "1\n"
     ],
     "output_type": "stream"
    }
   ],
   "source": [
    "alist = [2,3,4,54,23,34,1,0,9,34]\n",
    "for i in range(len(alist)-1, 0, -1):\n",
    "    print(i)\n",
    "\n"
   ],
   "metadata": {
    "collapsed": false,
    "pycharm": {
     "name": "#%%\n",
     "is_executing": false
    }
   }
  },
  {
   "cell_type": "code",
   "execution_count": 73,
   "outputs": [
    {
     "name": "stdout",
     "text": [
      "28 9\n"
     ],
     "output_type": "stream"
    }
   ],
   "source": [
    "a= 9\n",
    "b=28\n",
    "b,a = a,b\n",
    "print(a,b)\n",
    "\n"
   ],
   "metadata": {
    "collapsed": false,
    "pycharm": {
     "name": "#%%\n",
     "is_executing": false
    }
   }
  }
 ],
 "metadata": {
  "kernelspec": {
   "display_name": "Python 3",
   "language": "python",
   "name": "python3"
  },
  "language_info": {
   "codemirror_mode": {
    "name": "ipython",
    "version": 2
   },
   "file_extension": ".py",
   "mimetype": "text/x-python",
   "name": "python",
   "nbconvert_exporter": "python",
   "pygments_lexer": "ipython2",
   "version": "2.7.6"
  },
  "pycharm": {
   "stem_cell": {
    "cell_type": "raw",
    "source": [],
    "metadata": {
     "collapsed": false
    }
   }
  }
 },
 "nbformat": 4,
 "nbformat_minor": 0
}